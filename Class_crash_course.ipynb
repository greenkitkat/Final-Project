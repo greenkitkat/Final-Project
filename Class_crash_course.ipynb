{
  "nbformat": 4,
  "nbformat_minor": 0,
  "metadata": {
    "colab": {
      "provenance": [],
      "authorship_tag": "ABX9TyNJWCNFsv30Xt9fsbksTtY4",
      "include_colab_link": true
    },
    "kernelspec": {
      "name": "python3",
      "display_name": "Python 3"
    },
    "language_info": {
      "name": "python"
    }
  },
  "cells": [
    {
      "cell_type": "markdown",
      "metadata": {
        "id": "view-in-github",
        "colab_type": "text"
      },
      "source": [
        "<a href=\"https://colab.research.google.com/github/greenkitkat/Final-Project/blob/main/Class_crash_course.ipynb\" target=\"_parent\"><img src=\"https://colab.research.google.com/assets/colab-badge.svg\" alt=\"Open In Colab\"/></a>"
      ]
    },
    {
      "cell_type": "code",
      "execution_count": 9,
      "metadata": {
        "id": "3le7Wyl6dxr3"
      },
      "outputs": [],
      "source": [
        "# Class tutorial\n",
        "# Variable Always starts with a capital \n",
        "\n",
        "class Car:\n",
        "\n",
        "# constructs objects. What a object is or has.\n",
        "\n",
        "  def __init__(self, make, model, year, color):\n",
        "\n",
        "    self.make = make\n",
        "    self.model = model\n",
        "    self.year = year\n",
        "    self.color = color\n",
        "\n",
        "\n",
        "# Two Methods ( What each object can do)\n",
        "# self.model can represent any variable example car_1 or car_2\n",
        "\n",
        "  def drive(self):\n",
        "    print(\" This \" + self.model + \" is driving \")\n",
        "  def stop(self):\n",
        "    print(\" This \" + self.model + \" is stopped \")"
      ]
    },
    {
      "cell_type": "code",
      "source": [
        "car_1 = Car(\"Chevy\", \"Corvette\", 2021, \"Blue\")\n",
        "\n",
        "print(car_1.make)\n",
        "print(car_1.model)\n",
        "print(car_1.year)\n",
        "print(car_1.color)\n",
        "\n",
        "car_1.drive()\n",
        "car_1.stop()"
      ],
      "metadata": {
        "colab": {
          "base_uri": "https://localhost:8080/"
        },
        "id": "lFREof02pB8N",
        "outputId": "cd5dcf72-8e70-4790-feeb-259ba1bf7754"
      },
      "execution_count": 10,
      "outputs": [
        {
          "output_type": "stream",
          "name": "stdout",
          "text": [
            "Chevy\n",
            "Corvette\n",
            "2021\n",
            "Blue\n",
            " This Corvette is driving \n",
            " This Corvette is stopped \n"
          ]
        }
      ]
    }
  ]
}