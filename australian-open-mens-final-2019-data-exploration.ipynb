{
 "cells": [
  {
   "cell_type": "markdown",
   "metadata": {
    "_uuid": "375ca4440a2950cb329ef3d27adcc0093606872c"
   },
   "source": [
    "# Australian Open 2019 - Mens Final 2019 Djokovic vs. Nadal\n",
    "Nowadays, in most sports either tracking or event data is available for sports data scientists to analyse leagues, teams, games or players. For example, in soccer event-based data is available for all major leagues by professional data providers like [Opta](https://www.optasports.com/), [Statsbomb](https://statsbomb.com/) or [Wyscout](https://wyscout.com/). Generating event data for football matches is incredibly time consuming as there are lots of different events to annotate.  For tennis there is no event data available that covers the actual rallies played in games on either ATP or WTA tour. There exists official statistics of all matches played on ATP and WTA Tour. There is also Jeff Sackmans [github repository](https://github.com/JeffSackmann), which is a great way to start. He also has a [match charting project](http://www.tennisabstract.com/blog/2015/09/23/the-match-charting-project-quick-start-guide/) where point-by-point data is collected.\n",
    "But when I think about tennis, it is the movement of the ball and players, the tactics and the actual rallies and strokes. This is what I want to be able to see and analyse.  \n",
    "As a proof of concept that collecting detailed data about positional, temporal and stroke information in tennis is possible and as a tribute to Novac Djokovic and Rafael Nadal, two of the greatest tennis players of all time, I manually annotated each rally and stroke of their [Australian Open final 2019](https://www.atptour.com/en/scores/2019/580/MS001/match-stats?isLive=False). Fortunately for me it only went over three sets.\n",
    "The results are a couple of csv files that can be easily analyzed using pandas or R.  \n",
    "I prepared this notebook as a staring point for everyone who wants to work with rally-by-rally tennis data and I hope you enjoy it."
   ]
  },
  {
   "cell_type": "code",
   "execution_count": 2,
   "metadata": {
    "_kg_hide-input": true,
    "_uuid": "6d022cc87e1a9481ac46b8165e9b0f0bf75451e0"
   },
   "outputs": [
    {
     "ename": "ModuleNotFoundError",
     "evalue": "No module named 'plotly'",
     "output_type": "error",
     "traceback": [
      "\u001b[1;31m---------------------------------------------------------------------------\u001b[0m",
      "\u001b[1;31mModuleNotFoundError\u001b[0m                       Traceback (most recent call last)",
      "\u001b[1;32m~\\AppData\\Local\\Temp/ipykernel_48476/1911505254.py\u001b[0m in \u001b[0;36m<module>\u001b[1;34m\u001b[0m\n\u001b[0;32m      4\u001b[0m \u001b[1;33m\u001b[0m\u001b[0m\n\u001b[0;32m      5\u001b[0m \u001b[1;31m# Plotly and cufflinks for data analysis\u001b[0m\u001b[1;33m\u001b[0m\u001b[1;33m\u001b[0m\u001b[1;33m\u001b[0m\u001b[0m\n\u001b[1;32m----> 6\u001b[1;33m \u001b[1;32mfrom\u001b[0m \u001b[0mplotly\u001b[0m\u001b[1;33m.\u001b[0m\u001b[0moffline\u001b[0m \u001b[1;32mimport\u001b[0m \u001b[0minit_notebook_mode\u001b[0m\u001b[1;33m,\u001b[0m \u001b[0miplot\u001b[0m\u001b[1;33m\u001b[0m\u001b[1;33m\u001b[0m\u001b[0m\n\u001b[0m\u001b[0;32m      7\u001b[0m \u001b[1;32mimport\u001b[0m \u001b[0mcufflinks\u001b[0m \u001b[1;32mas\u001b[0m \u001b[0mcf\u001b[0m\u001b[1;33m\u001b[0m\u001b[1;33m\u001b[0m\u001b[0m\n\u001b[0;32m      8\u001b[0m \u001b[0minit_notebook_mode\u001b[0m\u001b[1;33m(\u001b[0m\u001b[0mconnected\u001b[0m\u001b[1;33m=\u001b[0m\u001b[1;32mTrue\u001b[0m\u001b[1;33m)\u001b[0m\u001b[1;33m\u001b[0m\u001b[1;33m\u001b[0m\u001b[0m\n",
      "\u001b[1;31mModuleNotFoundError\u001b[0m: No module named 'plotly'"
     ]
    }
   ],
   "source": [
    "import os\n",
    "import numpy as np\n",
    "import pandas as pd\n",
    "\n",
    "# Plotly and cufflinks for data analysis\n",
    "from plotly.offline import init_notebook_mode, iplot\n",
    "import cufflinks as cf\n",
    "init_notebook_mode(connected=True) \n",
    "\n",
    "cf.set_config_file(theme='ggplot')\n",
    "cf.go_offline()\n",
    "\n",
    "# Matplotlib for drawing the court\n",
    "import matplotlib.pyplot as plt\n",
    "from matplotlib.patches import Ellipse\n",
    "\n",
    "%matplotlib inline\n"
   ]
  },
  {
   "cell_type": "code",
   "execution_count": 3,
   "metadata": {
    "_cell_guid": "79c7e3d0-c299-4dcb-8224-4455121ee9b0",
    "_kg_hide-input": true,
    "_uuid": "d629ff2d2480ee46fbb7e2d37f6b5fab8052498a"
   },
   "outputs": [
    {
     "ename": "FileNotFoundError",
     "evalue": "[WinError 3] Le chemin d’accès spécifié est introuvable: '../input'",
     "output_type": "error",
     "traceback": [
      "\u001b[1;31m---------------------------------------------------------------------------\u001b[0m",
      "\u001b[1;31mFileNotFoundError\u001b[0m                         Traceback (most recent call last)",
      "\u001b[1;32m~\\AppData\\Local\\Temp/ipykernel_48476/1946482111.py\u001b[0m in \u001b[0;36m<module>\u001b[1;34m\u001b[0m\n\u001b[0;32m      3\u001b[0m     \u001b[1;32mreturn\u001b[0m \u001b[1;33m[\u001b[0m\u001b[0mpd\u001b[0m\u001b[1;33m.\u001b[0m\u001b[0mread_csv\u001b[0m\u001b[1;33m(\u001b[0m\u001b[0mos\u001b[0m\u001b[1;33m.\u001b[0m\u001b[0mpath\u001b[0m\u001b[1;33m.\u001b[0m\u001b[0mjoin\u001b[0m\u001b[1;33m(\u001b[0m\u001b[0mINPUT_DIR\u001b[0m\u001b[1;33m,\u001b[0m \u001b[0mfile_\u001b[0m\u001b[1;33m)\u001b[0m\u001b[1;33m,\u001b[0m \u001b[0mindex_col\u001b[0m\u001b[1;33m=\u001b[0m\u001b[1;36m0\u001b[0m\u001b[1;33m)\u001b[0m \u001b[1;32mfor\u001b[0m \u001b[0mfile_\u001b[0m \u001b[1;32min\u001b[0m \u001b[0mos\u001b[0m\u001b[1;33m.\u001b[0m\u001b[0mlistdir\u001b[0m\u001b[1;33m(\u001b[0m\u001b[0mINPUT_DIR\u001b[0m\u001b[1;33m)\u001b[0m\u001b[1;33m]\u001b[0m\u001b[1;33m\u001b[0m\u001b[1;33m\u001b[0m\u001b[0m\n\u001b[0;32m      4\u001b[0m \u001b[1;33m\u001b[0m\u001b[0m\n\u001b[1;32m----> 5\u001b[1;33m \u001b[0mserves\u001b[0m\u001b[1;33m,\u001b[0m \u001b[0mrallies\u001b[0m\u001b[1;33m,\u001b[0m \u001b[0mpoints\u001b[0m\u001b[1;33m,\u001b[0m \u001b[0mevents\u001b[0m \u001b[1;33m=\u001b[0m \u001b[0mload_data\u001b[0m\u001b[1;33m(\u001b[0m\u001b[1;33m)\u001b[0m\u001b[1;33m\u001b[0m\u001b[1;33m\u001b[0m\u001b[0m\n\u001b[0m",
      "\u001b[1;32m~\\AppData\\Local\\Temp/ipykernel_48476/1946482111.py\u001b[0m in \u001b[0;36mload_data\u001b[1;34m()\u001b[0m\n\u001b[0;32m      1\u001b[0m \u001b[0mINPUT_DIR\u001b[0m \u001b[1;33m=\u001b[0m \u001b[1;34m'../input'\u001b[0m\u001b[1;33m\u001b[0m\u001b[1;33m\u001b[0m\u001b[0m\n\u001b[0;32m      2\u001b[0m \u001b[1;32mdef\u001b[0m \u001b[0mload_data\u001b[0m\u001b[1;33m(\u001b[0m\u001b[1;33m)\u001b[0m\u001b[1;33m:\u001b[0m\u001b[1;33m\u001b[0m\u001b[1;33m\u001b[0m\u001b[0m\n\u001b[1;32m----> 3\u001b[1;33m     \u001b[1;32mreturn\u001b[0m \u001b[1;33m[\u001b[0m\u001b[0mpd\u001b[0m\u001b[1;33m.\u001b[0m\u001b[0mread_csv\u001b[0m\u001b[1;33m(\u001b[0m\u001b[0mos\u001b[0m\u001b[1;33m.\u001b[0m\u001b[0mpath\u001b[0m\u001b[1;33m.\u001b[0m\u001b[0mjoin\u001b[0m\u001b[1;33m(\u001b[0m\u001b[0mINPUT_DIR\u001b[0m\u001b[1;33m,\u001b[0m \u001b[0mfile_\u001b[0m\u001b[1;33m)\u001b[0m\u001b[1;33m,\u001b[0m \u001b[0mindex_col\u001b[0m\u001b[1;33m=\u001b[0m\u001b[1;36m0\u001b[0m\u001b[1;33m)\u001b[0m \u001b[1;32mfor\u001b[0m \u001b[0mfile_\u001b[0m \u001b[1;32min\u001b[0m \u001b[0mos\u001b[0m\u001b[1;33m.\u001b[0m\u001b[0mlistdir\u001b[0m\u001b[1;33m(\u001b[0m\u001b[0mINPUT_DIR\u001b[0m\u001b[1;33m)\u001b[0m\u001b[1;33m]\u001b[0m\u001b[1;33m\u001b[0m\u001b[1;33m\u001b[0m\u001b[0m\n\u001b[0m\u001b[0;32m      4\u001b[0m \u001b[1;33m\u001b[0m\u001b[0m\n\u001b[0;32m      5\u001b[0m \u001b[0mserves\u001b[0m\u001b[1;33m,\u001b[0m \u001b[0mrallies\u001b[0m\u001b[1;33m,\u001b[0m \u001b[0mpoints\u001b[0m\u001b[1;33m,\u001b[0m \u001b[0mevents\u001b[0m \u001b[1;33m=\u001b[0m \u001b[0mload_data\u001b[0m\u001b[1;33m(\u001b[0m\u001b[1;33m)\u001b[0m\u001b[1;33m\u001b[0m\u001b[1;33m\u001b[0m\u001b[0m\n",
      "\u001b[1;31mFileNotFoundError\u001b[0m: [WinError 3] Le chemin d’accès spécifié est introuvable: '../input'"
     ]
    }
   ],
   "source": [
    "INPUT_DIR = '../input'\n",
    "def load_data():\n",
    "    return [pd.read_csv(os.path.join(INPUT_DIR, file_), index_col=0) for file_ in os.listdir(INPUT_DIR)]\n",
    "        \n",
    "serves, rallies, points, events = load_data()"
   ]
  },
  {
   "cell_type": "markdown",
   "metadata": {
    "_uuid": "6e37a55f8076c3f8b532dd0d699eb109d9f84eb8"
   },
   "source": [
    "# The Data\n",
    "The data consists of all points played in the match. It is build hierarchically from **events**, to **rallies**, to actual **points**.\n",
    "- **Events**: Each time a player hit the ball, the stroke type, position of the player, and position of the opponent were recorded. \n",
    "- **Points**: a list of all points played in the final with information about the server, receiver, point type, number of strokes, time of rally, new score of the game. \n",
    "- **Rallies**: A list of all rallies with Server, Returner, etc. \n",
    "- **Serves**: For each successful serve, which was no failure, the position of the serve in the service box was recorded (whenever possible)\n",
    "\n",
    "I have already done the hard part of data cleaning, and the dataset is hopefully easy to understand and ready to use.\n",
    "The x,y coordinates for the players were mapped from pixel coordinates to real world coordinates employing a [Direct Linear Transform (DLT)](https://en.wikipedia.org/wiki/Direct_linear_transformation). It is not perfect because the camera perspective changed slightly during the match, but it worked reasonably well."
   ]
  },
  {
   "cell_type": "markdown",
   "metadata": {
    "_uuid": "3bf8637147e74e83f869c30c15127fcf493f2024"
   },
   "source": [
    "## Events"
   ]
  },
  {
   "cell_type": "code",
   "execution_count": 3,
   "metadata": {
    "_kg_hide-input": true,
    "_uuid": "6609fdb4ec36b75645150d2a5d495f8d7a830e9f"
   },
   "outputs": [
    {
     "data": {
      "text/html": [
       "<div>\n",
       "<style scoped>\n",
       "    .dataframe tbody tr th:only-of-type {\n",
       "        vertical-align: middle;\n",
       "    }\n",
       "\n",
       "    .dataframe tbody tr th {\n",
       "        vertical-align: top;\n",
       "    }\n",
       "\n",
       "    .dataframe thead th {\n",
       "        text-align: right;\n",
       "    }\n",
       "</style>\n",
       "<table border=\"1\" class=\"dataframe\">\n",
       "  <thead>\n",
       "    <tr style=\"text-align: right;\">\n",
       "      <th></th>\n",
       "      <th>rallyid</th>\n",
       "      <th>frameid</th>\n",
       "      <th>strokeid</th>\n",
       "      <th>hitter</th>\n",
       "      <th>receiver</th>\n",
       "      <th>isserve</th>\n",
       "      <th>serve</th>\n",
       "      <th>type</th>\n",
       "      <th>stroke</th>\n",
       "      <th>hitter_x</th>\n",
       "      <th>hitter_y</th>\n",
       "      <th>receiver_x</th>\n",
       "      <th>receiver_y</th>\n",
       "      <th>time</th>\n",
       "    </tr>\n",
       "  </thead>\n",
       "  <tbody>\n",
       "    <tr>\n",
       "      <th>0</th>\n",
       "      <td>1</td>\n",
       "      <td>70877</td>\n",
       "      <td>1</td>\n",
       "      <td>Djokovic</td>\n",
       "      <td>Nadal</td>\n",
       "      <td>True</td>\n",
       "      <td>first</td>\n",
       "      <td>serve</td>\n",
       "      <td>forehand</td>\n",
       "      <td>6.50</td>\n",
       "      <td>-0.24</td>\n",
       "      <td>1.03</td>\n",
       "      <td>27.44</td>\n",
       "      <td>0.00</td>\n",
       "    </tr>\n",
       "    <tr>\n",
       "      <th>1</th>\n",
       "      <td>1</td>\n",
       "      <td>70900</td>\n",
       "      <td>2</td>\n",
       "      <td>Nadal</td>\n",
       "      <td>Djokovic</td>\n",
       "      <td>False</td>\n",
       "      <td>first</td>\n",
       "      <td>slice</td>\n",
       "      <td>backhand</td>\n",
       "      <td>0.05</td>\n",
       "      <td>25.59</td>\n",
       "      <td>6.17</td>\n",
       "      <td>1.11</td>\n",
       "      <td>0.92</td>\n",
       "    </tr>\n",
       "    <tr>\n",
       "      <th>2</th>\n",
       "      <td>1</td>\n",
       "      <td>70950</td>\n",
       "      <td>3</td>\n",
       "      <td>Djokovic</td>\n",
       "      <td>Nadal</td>\n",
       "      <td>False</td>\n",
       "      <td>first</td>\n",
       "      <td>topspin</td>\n",
       "      <td>forehand</td>\n",
       "      <td>1.42</td>\n",
       "      <td>2.33</td>\n",
       "      <td>4.75</td>\n",
       "      <td>26.45</td>\n",
       "      <td>2.92</td>\n",
       "    </tr>\n",
       "    <tr>\n",
       "      <th>3</th>\n",
       "      <td>2</td>\n",
       "      <td>71488</td>\n",
       "      <td>1</td>\n",
       "      <td>Djokovic</td>\n",
       "      <td>Nadal</td>\n",
       "      <td>True</td>\n",
       "      <td>first</td>\n",
       "      <td>serve</td>\n",
       "      <td>forehand</td>\n",
       "      <td>4.48</td>\n",
       "      <td>-0.01</td>\n",
       "      <td>7.90</td>\n",
       "      <td>26.83</td>\n",
       "      <td>24.44</td>\n",
       "    </tr>\n",
       "    <tr>\n",
       "      <th>4</th>\n",
       "      <td>3</td>\n",
       "      <td>71796</td>\n",
       "      <td>1</td>\n",
       "      <td>Djokovic</td>\n",
       "      <td>Nadal</td>\n",
       "      <td>True</td>\n",
       "      <td>second</td>\n",
       "      <td>serve</td>\n",
       "      <td>forehand</td>\n",
       "      <td>4.48</td>\n",
       "      <td>-0.37</td>\n",
       "      <td>7.88</td>\n",
       "      <td>26.47</td>\n",
       "      <td>36.76</td>\n",
       "    </tr>\n",
       "  </tbody>\n",
       "</table>\n",
       "</div>"
      ],
      "text/plain": [
       "   rallyid  frameid  strokeid  ...   receiver_x receiver_y   time\n",
       "0        1    70877         1  ...         1.03      27.44   0.00\n",
       "1        1    70900         2  ...         6.17       1.11   0.92\n",
       "2        1    70950         3  ...         4.75      26.45   2.92\n",
       "3        2    71488         1  ...         7.90      26.83  24.44\n",
       "4        3    71796         1  ...         7.88      26.47  36.76\n",
       "\n",
       "[5 rows x 14 columns]"
      ]
     },
     "execution_count": 3,
     "metadata": {},
     "output_type": "execute_result"
    }
   ],
   "source": [
    "# events\n",
    "events.head()"
   ]
  },
  {
   "cell_type": "markdown",
   "metadata": {
    "_uuid": "94836933cbc8ef9c377a6b6edad6df0459c29d35"
   },
   "source": [
    "This dataframe contains all labeled events from the tennis match. Each row relates to when one of the players hit the ball. The player who his the ball is called hitter and the other player receiver. A flag isserve describes if the shot was a serve or not. serve tells us if the stroke happened in a rally after a first or second serve. Type and stroke relate to the recognized stroke type, i.e. forehand topspin.\n",
    "## Points"
   ]
  },
  {
   "cell_type": "code",
   "execution_count": 4,
   "metadata": {
    "_kg_hide-input": true,
    "_uuid": "55a8f71efc932910f3268c792a543b925de219de"
   },
   "outputs": [
    {
     "data": {
      "text/html": [
       "<div>\n",
       "<style scoped>\n",
       "    .dataframe tbody tr th:only-of-type {\n",
       "        vertical-align: middle;\n",
       "    }\n",
       "\n",
       "    .dataframe tbody tr th {\n",
       "        vertical-align: top;\n",
       "    }\n",
       "\n",
       "    .dataframe thead th {\n",
       "        text-align: right;\n",
       "    }\n",
       "</style>\n",
       "<table border=\"1\" class=\"dataframe\">\n",
       "  <thead>\n",
       "    <tr style=\"text-align: right;\">\n",
       "      <th></th>\n",
       "      <th>rallyid</th>\n",
       "      <th>server</th>\n",
       "      <th>returner</th>\n",
       "      <th>winner</th>\n",
       "      <th>reason</th>\n",
       "      <th>serve</th>\n",
       "      <th>strokes</th>\n",
       "      <th>totaltime</th>\n",
       "      <th>x</th>\n",
       "      <th>y</th>\n",
       "      <th>score</th>\n",
       "    </tr>\n",
       "  </thead>\n",
       "  <tbody>\n",
       "    <tr>\n",
       "      <th>0</th>\n",
       "      <td>1</td>\n",
       "      <td>Djokovic</td>\n",
       "      <td>Nadal</td>\n",
       "      <td>Djokovic</td>\n",
       "      <td>winner</td>\n",
       "      <td>first</td>\n",
       "      <td>3</td>\n",
       "      <td>0.92</td>\n",
       "      <td>1.92</td>\n",
       "      <td>21.96</td>\n",
       "      <td>0:0, 15:0</td>\n",
       "    </tr>\n",
       "    <tr>\n",
       "      <th>2</th>\n",
       "      <td>3</td>\n",
       "      <td>Djokovic</td>\n",
       "      <td>Nadal</td>\n",
       "      <td>Djokovic</td>\n",
       "      <td>out</td>\n",
       "      <td>second</td>\n",
       "      <td>4</td>\n",
       "      <td>4.16</td>\n",
       "      <td>3.33</td>\n",
       "      <td>-0.39</td>\n",
       "      <td>0:0, 30:0</td>\n",
       "    </tr>\n",
       "    <tr>\n",
       "      <th>4</th>\n",
       "      <td>5</td>\n",
       "      <td>Djokovic</td>\n",
       "      <td>Nadal</td>\n",
       "      <td>Djokovic</td>\n",
       "      <td>ace</td>\n",
       "      <td>second</td>\n",
       "      <td>2</td>\n",
       "      <td>0.40</td>\n",
       "      <td>1.62</td>\n",
       "      <td>17.18</td>\n",
       "      <td>0:0, 40:0</td>\n",
       "    </tr>\n",
       "    <tr>\n",
       "      <th>5</th>\n",
       "      <td>6</td>\n",
       "      <td>Djokovic</td>\n",
       "      <td>Nadal</td>\n",
       "      <td>Djokovic</td>\n",
       "      <td>net</td>\n",
       "      <td>first</td>\n",
       "      <td>10</td>\n",
       "      <td>10.40</td>\n",
       "      <td>6.41</td>\n",
       "      <td>12.78</td>\n",
       "      <td>1:0, 0:0</td>\n",
       "    </tr>\n",
       "    <tr>\n",
       "      <th>7</th>\n",
       "      <td>8</td>\n",
       "      <td>Nadal</td>\n",
       "      <td>Djokovic</td>\n",
       "      <td>Djokovic</td>\n",
       "      <td>out</td>\n",
       "      <td>second</td>\n",
       "      <td>7</td>\n",
       "      <td>7.20</td>\n",
       "      <td>0.50</td>\n",
       "      <td>18.67</td>\n",
       "      <td>1:0, 15:0</td>\n",
       "    </tr>\n",
       "  </tbody>\n",
       "</table>\n",
       "</div>"
      ],
      "text/plain": [
       "   rallyid    server  returner    ...         x      y      score\n",
       "0        1  Djokovic     Nadal    ...      1.92  21.96  0:0, 15:0\n",
       "2        3  Djokovic     Nadal    ...      3.33  -0.39  0:0, 30:0\n",
       "4        5  Djokovic     Nadal    ...      1.62  17.18  0:0, 40:0\n",
       "5        6  Djokovic     Nadal    ...      6.41  12.78   1:0, 0:0\n",
       "7        8     Nadal  Djokovic    ...      0.50  18.67  1:0, 15:0\n",
       "\n",
       "[5 rows x 11 columns]"
      ]
     },
     "execution_count": 4,
     "metadata": {},
     "output_type": "execute_result"
    }
   ],
   "source": [
    "# points\n",
    "points.head()"
   ]
  },
  {
   "cell_type": "markdown",
   "metadata": {
    "_uuid": "a000404e6aee2b4e800a73f65592b420d21d48f5"
   },
   "source": [
    "The dataframe contains data for all 142 points played in the match. Each point has a related rallyid and consists of the player who started the rally with his serve, the return player, the winner of the point, the number of strokes in the rally and the total time in seconds elapsed in the rally. The x,y coordinate describes the position on the court where the rally ended. For a winner it is where the ball bounced the first time, for a net ball it is the position in the net and for an out ball the position outside the court where the ball bounced the first time.\n",
    "## Rallies"
   ]
  },
  {
   "cell_type": "code",
   "execution_count": 5,
   "metadata": {
    "_kg_hide-input": true,
    "_uuid": "2b93822678821926373d61dfd036a4f628605765"
   },
   "outputs": [
    {
     "data": {
      "text/html": [
       "<div>\n",
       "<style scoped>\n",
       "    .dataframe tbody tr th:only-of-type {\n",
       "        vertical-align: middle;\n",
       "    }\n",
       "\n",
       "    .dataframe tbody tr th {\n",
       "        vertical-align: top;\n",
       "    }\n",
       "\n",
       "    .dataframe thead th {\n",
       "        text-align: right;\n",
       "    }\n",
       "</style>\n",
       "<table border=\"1\" class=\"dataframe\">\n",
       "  <thead>\n",
       "    <tr style=\"text-align: right;\">\n",
       "      <th></th>\n",
       "      <th>rallyid</th>\n",
       "      <th>server</th>\n",
       "      <th>returner</th>\n",
       "      <th>winner</th>\n",
       "      <th>reason</th>\n",
       "      <th>serve</th>\n",
       "      <th>strokes</th>\n",
       "      <th>totaltime</th>\n",
       "      <th>x</th>\n",
       "      <th>y</th>\n",
       "    </tr>\n",
       "  </thead>\n",
       "  <tbody>\n",
       "    <tr>\n",
       "      <th>0</th>\n",
       "      <td>1</td>\n",
       "      <td>Djokovic</td>\n",
       "      <td>Nadal</td>\n",
       "      <td>Djokovic</td>\n",
       "      <td>winner</td>\n",
       "      <td>first</td>\n",
       "      <td>3</td>\n",
       "      <td>0.92</td>\n",
       "      <td>1.92</td>\n",
       "      <td>21.96</td>\n",
       "    </tr>\n",
       "    <tr>\n",
       "      <th>1</th>\n",
       "      <td>2</td>\n",
       "      <td>Djokovic</td>\n",
       "      <td>Nadal</td>\n",
       "      <td>__undefined__</td>\n",
       "      <td>second_serve</td>\n",
       "      <td>first</td>\n",
       "      <td>1</td>\n",
       "      <td>0.00</td>\n",
       "      <td>7.42</td>\n",
       "      <td>12.10</td>\n",
       "    </tr>\n",
       "    <tr>\n",
       "      <th>2</th>\n",
       "      <td>3</td>\n",
       "      <td>Djokovic</td>\n",
       "      <td>Nadal</td>\n",
       "      <td>Djokovic</td>\n",
       "      <td>out</td>\n",
       "      <td>second</td>\n",
       "      <td>4</td>\n",
       "      <td>4.16</td>\n",
       "      <td>3.33</td>\n",
       "      <td>-0.39</td>\n",
       "    </tr>\n",
       "    <tr>\n",
       "      <th>3</th>\n",
       "      <td>4</td>\n",
       "      <td>Djokovic</td>\n",
       "      <td>Nadal</td>\n",
       "      <td>__undefined__</td>\n",
       "      <td>second_serve</td>\n",
       "      <td>first</td>\n",
       "      <td>1</td>\n",
       "      <td>0.00</td>\n",
       "      <td>4.64</td>\n",
       "      <td>17.69</td>\n",
       "    </tr>\n",
       "    <tr>\n",
       "      <th>4</th>\n",
       "      <td>5</td>\n",
       "      <td>Djokovic</td>\n",
       "      <td>Nadal</td>\n",
       "      <td>Djokovic</td>\n",
       "      <td>ace</td>\n",
       "      <td>second</td>\n",
       "      <td>2</td>\n",
       "      <td>0.40</td>\n",
       "      <td>1.62</td>\n",
       "      <td>17.18</td>\n",
       "    </tr>\n",
       "  </tbody>\n",
       "</table>\n",
       "</div>"
      ],
      "text/plain": [
       "   rallyid    server returner  ...   totaltime     x      y\n",
       "0        1  Djokovic    Nadal  ...        0.92  1.92  21.96\n",
       "1        2  Djokovic    Nadal  ...        0.00  7.42  12.10\n",
       "2        3  Djokovic    Nadal  ...        4.16  3.33  -0.39\n",
       "3        4  Djokovic    Nadal  ...        0.00  4.64  17.69\n",
       "4        5  Djokovic    Nadal  ...        0.40  1.62  17.18\n",
       "\n",
       "[5 rows x 10 columns]"
      ]
     },
     "execution_count": 5,
     "metadata": {},
     "output_type": "execute_result"
    }
   ],
   "source": [
    "# rallies\n",
    "rallies.head()"
   ]
  },
  {
   "cell_type": "markdown",
   "metadata": {
    "_uuid": "8ef7da8c1632b8ae5631f5ef11a2328164262078"
   },
   "source": [
    "This dataframe is similar to the data in points.csv but including all rallies, especially all serves that lead to a second serve which are encoded as rallies with only one stroke and an undefined winner.\n",
    "## Serves"
   ]
  },
  {
   "cell_type": "code",
   "execution_count": 6,
   "metadata": {
    "_kg_hide-input": true,
    "_uuid": "2e109f60d94a855e30fc5da0d4fdfb1674e5e44c"
   },
   "outputs": [
    {
     "data": {
      "text/html": [
       "<div>\n",
       "<style scoped>\n",
       "    .dataframe tbody tr th:only-of-type {\n",
       "        vertical-align: middle;\n",
       "    }\n",
       "\n",
       "    .dataframe tbody tr th {\n",
       "        vertical-align: top;\n",
       "    }\n",
       "\n",
       "    .dataframe thead th {\n",
       "        text-align: right;\n",
       "    }\n",
       "</style>\n",
       "<table border=\"1\" class=\"dataframe\">\n",
       "  <thead>\n",
       "    <tr style=\"text-align: right;\">\n",
       "      <th></th>\n",
       "      <th>rallyid</th>\n",
       "      <th>server</th>\n",
       "      <th>x</th>\n",
       "      <th>y</th>\n",
       "    </tr>\n",
       "  </thead>\n",
       "  <tbody>\n",
       "    <tr>\n",
       "      <th>0</th>\n",
       "      <td>1</td>\n",
       "      <td>Djokovic</td>\n",
       "      <td>1.86</td>\n",
       "      <td>16.80</td>\n",
       "    </tr>\n",
       "    <tr>\n",
       "      <th>1</th>\n",
       "      <td>3</td>\n",
       "      <td>Djokovic</td>\n",
       "      <td>7.05</td>\n",
       "      <td>16.97</td>\n",
       "    </tr>\n",
       "    <tr>\n",
       "      <th>2</th>\n",
       "      <td>6</td>\n",
       "      <td>Djokovic</td>\n",
       "      <td>8.04</td>\n",
       "      <td>17.80</td>\n",
       "    </tr>\n",
       "    <tr>\n",
       "      <th>3</th>\n",
       "      <td>8</td>\n",
       "      <td>Nadal</td>\n",
       "      <td>4.44</td>\n",
       "      <td>16.24</td>\n",
       "    </tr>\n",
       "    <tr>\n",
       "      <th>4</th>\n",
       "      <td>9</td>\n",
       "      <td>Nadal</td>\n",
       "      <td>5.71</td>\n",
       "      <td>16.40</td>\n",
       "    </tr>\n",
       "  </tbody>\n",
       "</table>\n",
       "</div>"
      ],
      "text/plain": [
       "   rallyid    server     x      y\n",
       "0        1  Djokovic  1.86  16.80\n",
       "1        3  Djokovic  7.05  16.97\n",
       "2        6  Djokovic  8.04  17.80\n",
       "3        8     Nadal  4.44  16.24\n",
       "4        9     Nadal  5.71  16.40"
      ]
     },
     "execution_count": 6,
     "metadata": {},
     "output_type": "execute_result"
    }
   ],
   "source": [
    "# serves\n",
    "serves.head()"
   ]
  },
  {
   "cell_type": "markdown",
   "metadata": {
    "_uuid": "991b739e7b1bdff0494f78762234014a026afa01"
   },
   "source": [
    "This dataframe contains the positions in the service box where successful serves bounced. Failed serves are not included. For some serves the actual position of the bounce could not be tracked due to changes in the perspective of the broadcast video. Due to a shift in perspective through the game most of the positions are shifted a little bit to the left. The distribution of serves of both players can still be seen reasonably well."
   ]
  },
  {
   "cell_type": "markdown",
   "metadata": {
    "_uuid": "0963a67d86bfa0c78adcb976a8089e95e3b97e40"
   },
   "source": [
    "# General statistics\n",
    "It is straight-forward to aggregate the rally results into general statistics of the match. Here are some examples\n",
    "## Points won"
   ]
  },
  {
   "cell_type": "code",
   "execution_count": 7,
   "metadata": {
    "_kg_hide-input": true,
    "_uuid": "1692dcf799fb49e30575f64e26cfaaa86780fa88"
   },
   "outputs": [
    {
     "data": {
      "text/html": [
       "<div>\n",
       "<style scoped>\n",
       "    .dataframe tbody tr th:only-of-type {\n",
       "        vertical-align: middle;\n",
       "    }\n",
       "\n",
       "    .dataframe tbody tr th {\n",
       "        vertical-align: top;\n",
       "    }\n",
       "\n",
       "    .dataframe thead th {\n",
       "        text-align: right;\n",
       "    }\n",
       "</style>\n",
       "<table border=\"1\" class=\"dataframe\">\n",
       "  <thead>\n",
       "    <tr style=\"text-align: right;\">\n",
       "      <th></th>\n",
       "      <th>rallyid</th>\n",
       "    </tr>\n",
       "    <tr>\n",
       "      <th>winner</th>\n",
       "      <th></th>\n",
       "    </tr>\n",
       "  </thead>\n",
       "  <tbody>\n",
       "    <tr>\n",
       "      <th>Djokovic</th>\n",
       "      <td>89</td>\n",
       "    </tr>\n",
       "    <tr>\n",
       "      <th>Nadal</th>\n",
       "      <td>53</td>\n",
       "    </tr>\n",
       "  </tbody>\n",
       "</table>\n",
       "</div>"
      ],
      "text/plain": [
       "          rallyid\n",
       "winner           \n",
       "Djokovic       89\n",
       "Nadal          53"
      ]
     },
     "execution_count": 7,
     "metadata": {},
     "output_type": "execute_result"
    }
   ],
   "source": [
    "points[['rallyid','winner']].groupby('winner').count()"
   ]
  },
  {
   "cell_type": "markdown",
   "metadata": {
    "_uuid": "f9709fe58e3a46e67196298b623179c475ba56ed"
   },
   "source": [
    "## Points won by serve"
   ]
  },
  {
   "cell_type": "code",
   "execution_count": 8,
   "metadata": {
    "_kg_hide-input": true,
    "_uuid": "852a326d1cdc686f635f25853fab024f2e3b7c3d"
   },
   "outputs": [
    {
     "data": {
      "text/html": [
       "<div>\n",
       "<style scoped>\n",
       "    .dataframe tbody tr th:only-of-type {\n",
       "        vertical-align: middle;\n",
       "    }\n",
       "\n",
       "    .dataframe tbody tr th {\n",
       "        vertical-align: top;\n",
       "    }\n",
       "\n",
       "    .dataframe thead th {\n",
       "        text-align: right;\n",
       "    }\n",
       "</style>\n",
       "<table border=\"1\" class=\"dataframe\">\n",
       "  <thead>\n",
       "    <tr style=\"text-align: right;\">\n",
       "      <th></th>\n",
       "      <th>winner</th>\n",
       "      <th>serve</th>\n",
       "      <th>counts</th>\n",
       "    </tr>\n",
       "  </thead>\n",
       "  <tbody>\n",
       "    <tr>\n",
       "      <th>0</th>\n",
       "      <td>Djokovic</td>\n",
       "      <td>first</td>\n",
       "      <td>62</td>\n",
       "    </tr>\n",
       "    <tr>\n",
       "      <th>1</th>\n",
       "      <td>Djokovic</td>\n",
       "      <td>second</td>\n",
       "      <td>27</td>\n",
       "    </tr>\n",
       "    <tr>\n",
       "      <th>2</th>\n",
       "      <td>Nadal</td>\n",
       "      <td>first</td>\n",
       "      <td>36</td>\n",
       "    </tr>\n",
       "    <tr>\n",
       "      <th>3</th>\n",
       "      <td>Nadal</td>\n",
       "      <td>second</td>\n",
       "      <td>17</td>\n",
       "    </tr>\n",
       "  </tbody>\n",
       "</table>\n",
       "</div>"
      ],
      "text/plain": [
       "     winner   serve  counts\n",
       "0  Djokovic   first      62\n",
       "1  Djokovic  second      27\n",
       "2     Nadal   first      36\n",
       "3     Nadal  second      17"
      ]
     },
     "execution_count": 8,
     "metadata": {},
     "output_type": "execute_result"
    }
   ],
   "source": [
    "points.groupby(['winner','serve']).size().reset_index(name='counts')"
   ]
  },
  {
   "cell_type": "markdown",
   "metadata": {
    "_uuid": "035aa70f73d7d7aedde0c34e7af87872f48c9a44"
   },
   "source": [
    "## Points won by result\n",
    "Each rally contains an encoding of the reason why a rally ended and the winner of the rally. The events `double_fault`, `net`, and `out` refer to a fault by the opponent of the winning player."
   ]
  },
  {
   "cell_type": "code",
   "execution_count": 9,
   "metadata": {
    "_kg_hide-input": true,
    "_uuid": "a3e897ee4220b2f96e7b6bef38f3e49991af5964"
   },
   "outputs": [
    {
     "data": {
      "application/vnd.plotly.v1+json": {
       "config": {
        "linkText": "Export to plot.ly",
        "plotlyServerURL": "https://plot.ly",
        "showLink": true
       },
       "data": [
        {
         "marker": {
          "color": "rgba(226, 74, 51, 0.6)",
          "line": {
           "color": "rgba(226, 74, 51, 1.0)",
           "width": 1
          }
         },
         "name": "Djokovic",
         "orientation": "v",
         "text": "",
         "type": "bar",
         "uid": "38b9c534-eed0-4109-ae2f-1afb6956071c",
         "x": [
          "ace",
          "double_fault",
          "net",
          "out",
          "winner"
         ],
         "y": [
          8,
          2,
          23,
          30,
          26
         ]
        },
        {
         "marker": {
          "color": "rgba(62, 111, 176, 0.6)",
          "line": {
           "color": "rgba(62, 111, 176, 1.0)",
           "width": 1
          }
         },
         "name": "Nadal",
         "orientation": "v",
         "text": "",
         "type": "bar",
         "uid": "93276040-11bf-442e-a8e9-0e346a75af2d",
         "x": [
          "ace",
          "double_fault",
          "net",
          "out",
          "winner"
         ],
         "y": [
          3,
          "",
          14,
          19,
          17
         ]
        }
       ],
       "layout": {
        "legend": {
         "bgcolor": "#FFFFFF",
         "font": {
          "color": "#666666"
         }
        },
        "paper_bgcolor": "#FFFFFF",
        "plot_bgcolor": "#E5E5E5",
        "title": {
         "font": {
          "color": "#151516"
         }
        },
        "xaxis": {
         "gridcolor": "#F6F6F6",
         "showgrid": true,
         "tickfont": {
          "color": "#666666"
         },
         "title": {
          "font": {
           "color": "#666666"
          },
          "text": ""
         },
         "zerolinecolor": "#F6F6F6"
        },
        "yaxis": {
         "gridcolor": "#F6F6F6",
         "showgrid": true,
         "tickfont": {
          "color": "#666666"
         },
         "title": {
          "font": {
           "color": "#666666"
          },
          "text": ""
         },
         "zerolinecolor": "#F6F6F6"
        }
       }
      },
      "text/html": [
       "<div id=\"e40c4b46-01b0-4f89-a094-e28cd44009ad\" style=\"height: 525px; width: 100%;\" class=\"plotly-graph-div\"></div><script type=\"text/javascript\">require([\"plotly\"], function(Plotly) { window.PLOTLYENV=window.PLOTLYENV || {};window.PLOTLYENV.BASE_URL=\"https://plot.ly\";Plotly.newPlot(\"e40c4b46-01b0-4f89-a094-e28cd44009ad\", [{\"marker\": {\"color\": \"rgba(226, 74, 51, 0.6)\", \"line\": {\"color\": \"rgba(226, 74, 51, 1.0)\", \"width\": 1}}, \"name\": \"Djokovic\", \"orientation\": \"v\", \"text\": \"\", \"x\": [\"ace\", \"double_fault\", \"net\", \"out\", \"winner\"], \"y\": [8.0, 2.0, 23.0, 30.0, 26.0], \"type\": \"bar\", \"uid\": \"185548fe-7069-4580-803b-e171cd534b8f\"}, {\"marker\": {\"color\": \"rgba(62, 111, 176, 0.6)\", \"line\": {\"color\": \"rgba(62, 111, 176, 1.0)\", \"width\": 1}}, \"name\": \"Nadal\", \"orientation\": \"v\", \"text\": \"\", \"x\": [\"ace\", \"double_fault\", \"net\", \"out\", \"winner\"], \"y\": [3.0, \"\", 14.0, 19.0, 17.0], \"type\": \"bar\", \"uid\": \"a2efc0e7-60e2-4d2d-8351-6e9dce55c1fc\"}], {\"legend\": {\"bgcolor\": \"#FFFFFF\", \"font\": {\"color\": \"#666666\"}}, \"paper_bgcolor\": \"#FFFFFF\", \"plot_bgcolor\": \"#E5E5E5\", \"title\": {\"font\": {\"color\": \"#151516\"}}, \"xaxis\": {\"gridcolor\": \"#F6F6F6\", \"showgrid\": true, \"tickfont\": {\"color\": \"#666666\"}, \"title\": {\"text\": \"\", \"font\": {\"color\": \"#666666\"}}, \"zerolinecolor\": \"#F6F6F6\"}, \"yaxis\": {\"gridcolor\": \"#F6F6F6\", \"showgrid\": true, \"tickfont\": {\"color\": \"#666666\"}, \"title\": {\"text\": \"\", \"font\": {\"color\": \"#666666\"}}, \"zerolinecolor\": \"#F6F6F6\"}}, {\"showLink\": true, \"linkText\": \"Export to plot.ly\", \"plotlyServerURL\": \"https://plot.ly\"})});</script><script type=\"text/javascript\">window.addEventListener(\"resize\", function(){window._Plotly.Plots.resize(document.getElementById(\"e40c4b46-01b0-4f89-a094-e28cd44009ad\"));});</script>"
      ],
      "text/vnd.plotly.v1+html": [
       "<div id=\"e40c4b46-01b0-4f89-a094-e28cd44009ad\" style=\"height: 525px; width: 100%;\" class=\"plotly-graph-div\"></div><script type=\"text/javascript\">require([\"plotly\"], function(Plotly) { window.PLOTLYENV=window.PLOTLYENV || {};window.PLOTLYENV.BASE_URL=\"https://plot.ly\";Plotly.newPlot(\"e40c4b46-01b0-4f89-a094-e28cd44009ad\", [{\"marker\": {\"color\": \"rgba(226, 74, 51, 0.6)\", \"line\": {\"color\": \"rgba(226, 74, 51, 1.0)\", \"width\": 1}}, \"name\": \"Djokovic\", \"orientation\": \"v\", \"text\": \"\", \"x\": [\"ace\", \"double_fault\", \"net\", \"out\", \"winner\"], \"y\": [8.0, 2.0, 23.0, 30.0, 26.0], \"type\": \"bar\", \"uid\": \"185548fe-7069-4580-803b-e171cd534b8f\"}, {\"marker\": {\"color\": \"rgba(62, 111, 176, 0.6)\", \"line\": {\"color\": \"rgba(62, 111, 176, 1.0)\", \"width\": 1}}, \"name\": \"Nadal\", \"orientation\": \"v\", \"text\": \"\", \"x\": [\"ace\", \"double_fault\", \"net\", \"out\", \"winner\"], \"y\": [3.0, \"\", 14.0, 19.0, 17.0], \"type\": \"bar\", \"uid\": \"a2efc0e7-60e2-4d2d-8351-6e9dce55c1fc\"}], {\"legend\": {\"bgcolor\": \"#FFFFFF\", \"font\": {\"color\": \"#666666\"}}, \"paper_bgcolor\": \"#FFFFFF\", \"plot_bgcolor\": \"#E5E5E5\", \"title\": {\"font\": {\"color\": \"#151516\"}}, \"xaxis\": {\"gridcolor\": \"#F6F6F6\", \"showgrid\": true, \"tickfont\": {\"color\": \"#666666\"}, \"title\": {\"text\": \"\", \"font\": {\"color\": \"#666666\"}}, \"zerolinecolor\": \"#F6F6F6\"}, \"yaxis\": {\"gridcolor\": \"#F6F6F6\", \"showgrid\": true, \"tickfont\": {\"color\": \"#666666\"}, \"title\": {\"text\": \"\", \"font\": {\"color\": \"#666666\"}}, \"zerolinecolor\": \"#F6F6F6\"}}, {\"showLink\": true, \"linkText\": \"Export to plot.ly\", \"plotlyServerURL\": \"https://plot.ly\"})});</script><script type=\"text/javascript\">window.addEventListener(\"resize\", function(){window._Plotly.Plots.resize(document.getElementById(\"e40c4b46-01b0-4f89-a094-e28cd44009ad\"));});</script>"
      ]
     },
     "metadata": {},
     "output_type": "display_data"
    }
   ],
   "source": [
    "points.groupby('reason')['winner'].value_counts().unstack().iplot(kind='bar')"
   ]
  },
  {
   "cell_type": "markdown",
   "metadata": {
    "_uuid": "23e9419734cb69beca2a190601af23de1d50517c"
   },
   "source": [
    "# Simple Plots\n",
    "As this notebook is intended as starting point for own investigations, here are some sample plots that might be useful in your own investigations.\n",
    "\n",
    "## Tennis court dimensions\n",
    "Here is a function to draw the tennis court and its coordinate system. (The code is shown in the notebook.)"
   ]
  },
  {
   "cell_type": "code",
   "execution_count": 10,
   "metadata": {
    "_kg_hide-input": true,
    "_uuid": "8f624473adab261339a648622b1ad2ba53fcd63f"
   },
   "outputs": [
    {
     "data": {
      "image/png": "[encoded data removed]",
      "text/plain": [
       "<Figure size 394.92x856.08 with 1 Axes>"
      ]
     },
     "metadata": {},
     "output_type": "display_data"
    }
   ],
   "source": [
    "\n",
    "#### Tennis data\n",
    "\n",
    "height_court = 10.97\n",
    "width_court = 11.89*2\n",
    "service_box = 6.4\n",
    "double_field = 1.37\n",
    "baseline_serviceline = 5.5\n",
    "breite_einzel = 8.23\n",
    "serviceline_net = 6.4\n",
    "\n",
    "\n",
    "def draw_court(hide_axes=False):\n",
    "    \"\"\"Sets up field\n",
    "    Returns matplotlib fig and axes objects.\n",
    "    \"\"\"\n",
    "        \n",
    "    fig = plt.figure(figsize=(height_court/2, width_court/2))\n",
    "    #fig = plt.figure(figsize=(9, 9))\n",
    "    fig.patch.set_facecolor('#5080B0')\n",
    "\n",
    "    axes = fig.add_subplot(1, 1, 1, facecolor='#5080B0')\n",
    "\n",
    "    if hide_axes:\n",
    "        axes.xaxis.set_visible(False)\n",
    "        axes.yaxis.set_visible(False)\n",
    "        axes.axis('off')\n",
    "\n",
    "    axes = draw_patches(axes)\n",
    "    \n",
    "    return fig, axes\n",
    "\n",
    "def draw_patches(axes):\n",
    "    plt.xlim([-2,height_court+2])\n",
    "    plt.ylim([-6.5,width_court+6.5])\n",
    "    \n",
    "    #net\n",
    "    axes.add_line(plt.Line2D([height_court, 0],[width_court/2, width_court/2],\n",
    "                    c='w'))\n",
    "    \n",
    "    # court outline\n",
    "    y = 0\n",
    "    dy = width_court\n",
    "    x = 0#height_court-double_field\n",
    "    dx = height_court\n",
    "    axes.add_patch(plt.Rectangle((x, y), dx, dy,\n",
    "                       edgecolor=\"white\", facecolor=\"#5581A6\", alpha=1))\n",
    "    # serving rect\n",
    "    y = baseline_serviceline\n",
    "    dy = serviceline_net*2\n",
    "    x = 0 + double_field \n",
    "    dx = breite_einzel\n",
    "    axes.add_patch(plt.Rectangle((x, y), dx, dy,\n",
    "                       edgecolor=\"white\", facecolor=\"none\", alpha=1))\n",
    "    \n",
    "    #?\n",
    "    #net\n",
    "    axes.add_line(plt.Line2D([height_court/2, height_court/2], [width_court/2 - service_box, width_court/2 + service_box],\n",
    "                    c='w'))\n",
    "    \n",
    "    axes.add_line(plt.Line2D([height_court/2, height_court/2], [0, 0 + 0.45], \n",
    "                    c='w'))\n",
    "\n",
    "    axes.add_line(plt.Line2D([height_court/2, height_court/2], [width_court, width_court - 0.45], \n",
    "                c='w'))\n",
    "    \n",
    "    axes.add_line(plt.Line2D([1.37, 1.37], [0, width_court], \n",
    "            c='w'))\n",
    "    \n",
    "    axes.add_line(plt.Line2D( [height_court - 1.37, height_court - 1.37], [0, width_court],\n",
    "        c='w'))\n",
    "\n",
    "    return axes\n",
    "\n",
    "fig, ax = draw_court();"
   ]
  },
  {
   "cell_type": "markdown",
   "metadata": {
    "_uuid": "6ec44b55268c74a6ee34ad830286abb855900c43"
   },
   "source": [
    "## Tennis court with players\n",
    "Of course a court alone is not enough, here is how you can add players to the court."
   ]
  },
  {
   "cell_type": "code",
   "execution_count": 11,
   "metadata": {
    "_kg_hide-input": true,
    "_uuid": "83d27d480986626a121534b1a6788461bd6a7fd3",
    "scrolled": false
   },
   "outputs": [
    {
     "data": {
      "image/png": "[encoded data removed]",
      "text/plain": [
       "<Figure size 394.92x856.08 with 1 Axes>"
      ]
     },
     "metadata": {},
     "output_type": "display_data"
    }
   ],
   "source": [
    "def draw_players(axes):\n",
    "    colors = {'djokovic': 'gray',\n",
    "              'nadal': '#00529F'}\n",
    "    \n",
    "    size = 2\n",
    "    color='white'\n",
    "    edge=colors['djokovic']                        \n",
    "    \n",
    "    axes.add_artist(Ellipse((6,\n",
    "                             -0.2),\n",
    "                              size,size,\n",
    "                              edgecolor=edge,\n",
    "                              linewidth=2,\n",
    "                              facecolor=color,\n",
    "                              alpha=1,\n",
    "                              zorder=20))\n",
    "    axes.text(6-0.4,-0.2-0.2,'Dj',fontsize=14, color='black', zorder=30)\n",
    "                \n",
    "    \n",
    "    edge=colors['nadal']\n",
    "    axes.add_artist(Ellipse((1.75,\n",
    "                             25),\n",
    "                              size,size, \n",
    "                              edgecolor=edge,\n",
    "                              linewidth=2,\n",
    "                              facecolor=color,\n",
    "                              alpha=1,\n",
    "                              zorder=20))\n",
    "    axes.text(1.75-0.4,25-0.15,'Na',fontsize=14, color='black', zorder=30)\n",
    "    \n",
    "    return axes\n",
    "\n",
    "fig, ax = draw_court(hide_axes=True);\n",
    "ax = draw_players(ax)"
   ]
  },
  {
   "cell_type": "markdown",
   "metadata": {
    "_uuid": "67048f71c484420113d7eb357b4b9234b977cb6a"
   },
   "source": [
    "# Advanced example\n",
    "Using the data we can create replays of the rallies by linearly interpolating the positions of each player between two events. The result might look similar to this.\n",
    "![Rally example](https://cdn-images-1.medium.com/max/1600/1*OHtO7fS1SEoGSiGEa1wSrg.gif)\n",
    "\n",
    "# It is your turn\n",
    "There is a ton you can do with this kind of data. Feel free to fork the kernel and extend and improve on the shown methods. Here are some possible topics to get you started.\n",
    "* Generate a chart of the match statistics from the rally data\n",
    "* Create a GUI that allows to easily replay points\n",
    "* Investigate where both players served to. E.g. positions in service box, forehand or backhand of the opponent.\n",
    "* Create heatmaps of the movement of each player for each set.\n",
    "* Create a heatmap for each players return position.\n",
    "* ..."
   ]
  },
  {
   "cell_type": "code",
   "execution_count": 12,
   "metadata": {
    "_uuid": "b3a255ddd2db7f8ea3126a4b27fefd60b67d1e65"
   },
   "outputs": [],
   "source": []
  }
 ],
 "metadata": {
  "kernelspec": {
   "display_name": "Python 3 (ipykernel)",
   "language": "python",
   "name": "python3"
  },
  "language_info": {
   "codemirror_mode": {
    "name": "ipython",
    "version": 3
   },
   "file_extension": ".py",
   "mimetype": "text/x-python",
   "name": "python",
   "nbconvert_exporter": "python",
   "pygments_lexer": "ipython3",
   "version": "3.8.11"
  }
 },
 "nbformat": 4,
 "nbformat_minor": 1
}
